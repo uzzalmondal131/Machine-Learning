{
 "cells": [
  {
   "cell_type": "code",
   "execution_count": 1,
   "metadata": {},
   "outputs": [
    {
     "data": {
      "text/plain": [
       "array([120291.82341322])"
      ]
     },
     "execution_count": 1,
     "metadata": {},
     "output_type": "execute_result"
    }
   ],
   "source": [
    "import pandas as pd \n",
    "import numpy as np \n",
    "import matplotlib.pyplot as plt \n",
    "#uzzal_df=dataframe and read_csv() used for read csv source file\n",
    "uzzal_df = pd.read_csv('Salary_Data.csv')\n",
    "#display top 5 rerord\n",
    "uzzal_df.head(5)\n",
    "#display description\n",
    "uzzal_df.describe()\n",
    "#input\n",
    "x = uzzal_df['YearsExperience'] \n",
    "#output/terget\n",
    "y = uzzal_df['Salary']\n",
    "from sklearn import linear_model\n",
    "# create linear regression object \n",
    "model = linear_model.LinearRegression() \n",
    "# train the model using the training sets \n",
    "model.fit(uzzal_df[['YearsExperience']],uzzal_df['Salary'])\n",
    "#coeficient ( b1 )\n",
    "model.coef_\n",
    "#interception ( b0 )\n",
    "model.intercept_\n",
    "#predict salary for 10 years\n",
    "model.predict([[10]])"
   ]
  },
  {
   "cell_type": "code",
   "execution_count": null,
   "metadata": {},
   "outputs": [],
   "source": []
  }
 ],
 "metadata": {
  "kernelspec": {
   "display_name": "Python 3",
   "language": "python",
   "name": "python3"
  },
  "language_info": {
   "codemirror_mode": {
    "name": "ipython",
    "version": 3
   },
   "file_extension": ".py",
   "mimetype": "text/x-python",
   "name": "python",
   "nbconvert_exporter": "python",
   "pygments_lexer": "ipython3",
   "version": "3.7.3"
  }
 },
 "nbformat": 4,
 "nbformat_minor": 2
}
